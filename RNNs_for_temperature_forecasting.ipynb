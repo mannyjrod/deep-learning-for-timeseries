{
 "cells": [
  {
   "cell_type": "markdown",
   "metadata": {},
   "source": [
    "Author: Emmanuel Rodriguez\n",
    "\n",
    "https://emmanueljrodriguez.com/\n",
    "\n",
    "Date: 25-Feb-2023, 11:52\n",
    "\n",
    "Location: Seattle, WA"
   ]
  },
  {
   "cell_type": "markdown",
   "metadata": {},
   "source": [
    "# Deep Learning for Timeseries"
   ]
  },
  {
   "cell_type": "markdown",
   "metadata": {},
   "source": [
    "### Applying recurrent neural networks (RNNs) to a temperature forecasting example"
   ]
  },
  {
   "cell_type": "markdown",
   "metadata": {},
   "source": [
    "Understand: \"[Unlike other data types] Working with timeseries involves understanding the *dynamics* of a system - its periodic cycles, how it trends over time, its regular regime and its sudden spikes.\""
   ]
  },
  {
   "cell_type": "markdown",
   "metadata": {},
   "source": [
    "Ref: Chollet, 10.2 A temperature-forecasting example"
   ]
  },
  {
   "cell_type": "markdown",
   "metadata": {},
   "source": [
    "Requirements: Develop a program that predicts the temperature 24 hours in the future."
   ]
  },
  {
   "cell_type": "markdown",
   "metadata": {},
   "source": [
    "Background: A dataset in the form of a timeseries of hourly measurements of quantities such as atmospheric pressure and humidity, which was recorded over the recent past by a set of sensors located at the weather station at the Max Planck Institute for Biogeochemistry in Jena, Germany will be used in this analysis."
   ]
  },
  {
   "cell_type": "markdown",
   "metadata": {},
   "source": [
    "Ref: https://www.bgc-jena.mpg.de/wetter/\n",
    "\n",
    "[Map of Max-Planck-Institute for Biogeochemistry](https://www.google.com/maps/place/Max+Planck+Institute+for+Biogeochemistry/@50.8995996,11.5482639,13z/data=!4m6!3m5!1s0x47a6a8e8b03dc12f:0x4ca4590c808f462f!8m2!3d50.9101246!4d11.5667919!16zL20vMGdnX3Nt) "
   ]
  },
  {
   "cell_type": "markdown",
   "metadata": {},
   "source": [
    "**To Do**\n",
    "\n",
    "1. Understand the *for* loop logic under parse the data "
   ]
  },
  {
   "cell_type": "markdown",
   "metadata": {},
   "source": [
    "### Step 1. Acquire"
   ]
  },
  {
   "cell_type": "markdown",
   "metadata": {},
   "source": [
    "Load the dataset - download and uncompress the data."
   ]
  },
  {
   "cell_type": "code",
   "execution_count": 8,
   "metadata": {},
   "outputs": [
    {
     "name": "stdout",
     "output_type": "stream",
     "text": [
      "Requirement already satisfied: wget in c:\\users\\ejoaq\\anaconda3\\lib\\site-packages (3.2)\n"
     ]
    }
   ],
   "source": [
    "# Recall: Using an '!' before the command will pass the command to the shell/command prompt (not to the Python interpreter)\n",
    "!pip install wget \n",
    "\n",
    "# \"pip Install Packages\" is a tool for installing Python packages and their dependencies in a secure manner"
   ]
  },
  {
   "cell_type": "code",
   "execution_count": 15,
   "metadata": {},
   "outputs": [
    {
     "name": "stdout",
     "output_type": "stream",
     "text": [
      "\n",
      "Saved under jena_climate_2009_2016.csv.zip\n"
     ]
    }
   ],
   "source": [
    "!python -m wget -o jena_climate_2009_2016.csv.zip https://s3.amazonaws.com/keras-datasets/jena_climate_2009_2016.csv.zip \n",
    "    # wget is a windows network utility to retrieve files from the web\n",
    "#!unzip jena_climate_2009_2016.csv.zip"
   ]
  },
  {
   "cell_type": "markdown",
   "metadata": {},
   "source": [
    "Was running into issues with using 'wget'; https://stackoverflow.com/questions/60760049/wget-is-not-recognized-as-an-internal-or-external-command-operable-program-or-b"
   ]
  },
  {
   "cell_type": "code",
   "execution_count": 16,
   "metadata": {},
   "outputs": [
    {
     "name": "stdout",
     "output_type": "stream",
     "text": [
      "Archive:  jena_climate_2009_2016.csv.zip\n",
      "  inflating: jena_climate_2009_2016.csv  \n",
      "  inflating: __MACOSX/._jena_climate_2009_2016.csv  \n"
     ]
    }
   ],
   "source": [
    "!unzip jena_climate_2009_2016.csv"
   ]
  },
  {
   "cell_type": "markdown",
   "metadata": {},
   "source": [
    "### Step 2. Prepare"
   ]
  },
  {
   "cell_type": "markdown",
   "metadata": {},
   "source": [
    "Inspect the data of the Jena weather dataset"
   ]
  },
  {
   "cell_type": "code",
   "execution_count": 17,
   "metadata": {},
   "outputs": [
    {
     "name": "stdout",
     "output_type": "stream",
     "text": [
      "['\"Date Time\"', '\"p (mbar)\"', '\"T (degC)\"', '\"Tpot (K)\"', '\"Tdew (degC)\"', '\"rh (%)\"', '\"VPmax (mbar)\"', '\"VPact (mbar)\"', '\"VPdef (mbar)\"', '\"sh (g/kg)\"', '\"H2OC (mmol/mol)\"', '\"rho (g/m**3)\"', '\"wv (m/s)\"', '\"max. wv (m/s)\"', '\"wd (deg)\"']\n",
      "420451\n"
     ]
    }
   ],
   "source": [
    "import os\n",
    "fname = os.path.join(\"jena_climate_2009_2016.csv\")\n",
    "\n",
    "with open(fname) as f:\n",
    "    data = f.read()\n",
    "    \n",
    "lines = data.split('\\n')\n",
    "header = lines[0].split(',')\n",
    "lines = lines[1:]\n",
    "print(header)\n",
    "print(len(lines))"
   ]
  },
  {
   "cell_type": "markdown",
   "metadata": {},
   "source": [
    "Parse the data"
   ]
  },
  {
   "cell_type": "code",
   "execution_count": 32,
   "metadata": {},
   "outputs": [],
   "source": [
    "# Convert all lines of data into NumPy arrays: one array for the temperature, and another\n",
    "# for the rest of the data - the features used to predict future temperatures. \n",
    "# Discard the 'Date Time' column.\n",
    "\n",
    "import numpy as np\n",
    "temp = np.zeros((len(lines),)) # Initialize the temp variable with an array of zeros of shape: lines x 0\n",
    "raw_data = np.zeros((len(lines), len(header) - 1)) # Initialize the variable that will hold the features with zeros\n",
    "for i, line in enumerate(lines):\n",
    "    values = [float(x) for x in line.split(\",\")[1:]]\n",
    "    temp[i] = values[1]\n",
    "    raw_data[i, :] = values[:]"
   ]
  },
  {
   "cell_type": "code",
   "execution_count": 33,
   "metadata": {},
   "outputs": [],
   "source": [
    "#help(enumerate)"
   ]
  },
  {
   "cell_type": "markdown",
   "metadata": {},
   "source": [
    "Visualize - Plot the temperature timeseries"
   ]
  },
  {
   "cell_type": "code",
   "execution_count": 37,
   "metadata": {},
   "outputs": [
    {
     "data": {
      "text/plain": [
       "Text(0.5, 1.0, 'Temperature over the full temporal range of the dataset (degC)')"
      ]
     },
     "execution_count": 37,
     "metadata": {},
     "output_type": "execute_result"
    },
    {
     "data": {
      "image/png": "[encoded data removed]",
      "text/plain": [
       "<Figure size 432x288 with 1 Axes>"
      ]
     },
     "metadata": {
      "needs_background": "light"
     },
     "output_type": "display_data"
    }
   ],
   "source": [
    "from matplotlib import pyplot as plt\n",
    "plt.plot(range(len(temp)), temp)\n",
    "plt.xlabel('Time')\n",
    "plt.ylabel('Temp, degC')\n",
    "plt.title('Temperature over the full temporal range of the dataset (degC)')"
   ]
  },
  {
   "cell_type": "markdown",
   "metadata": {},
   "source": [
    "On this plot, one can clearly see the yearly periodicity of temperature, the data spans 8 years."
   ]
  },
  {
   "cell_type": "code",
   "execution_count": 39,
   "metadata": {},
   "outputs": [],
   "source": [
    "# The data's sample rate is every 10 minutes, so how many data points per day?\n",
    "# 6 samples per hour, so\n",
    "daily_samples = 24 * 6"
   ]
  },
  {
   "cell_type": "code",
   "execution_count": 41,
   "metadata": {},
   "outputs": [
    {
     "data": {
      "text/plain": [
       "Text(0, 0.5, 'Temp, degC')"
      ]
     },
     "execution_count": 41,
     "metadata": {},
     "output_type": "execute_result"
    },
    {
     "data": {
      "image/png": "[encoded data removed]",
      "text/plain": [
       "<Figure size 432x288 with 1 Axes>"
      ]
     },
     "metadata": {
      "needs_background": "light"
     },
     "output_type": "display_data"
    }
   ],
   "source": [
    "plt.plot(range(daily_samples*10), temp[:daily_samples*10])\n",
    "plt.title('Temperature over the first 10 days of the dataset (degC)')\n",
    "plt.xlabel('Time')\n",
    "plt.ylabel('Temp, degC')"
   ]
  },
  {
   "cell_type": "markdown",
   "metadata": {},
   "source": [
    "Cold! Note the daily periodicity, especially the last 4 days.\n",
    "**Always look for periodicity in your data**"
   ]
  },
  {
   "cell_type": "code",
   "execution_count": null,
   "metadata": {},
   "outputs": [],
   "source": []
  },
  {
   "cell_type": "code",
   "execution_count": null,
   "metadata": {},
   "outputs": [],
   "source": []
  },
  {
   "cell_type": "code",
   "execution_count": 27,
   "metadata": {},
   "outputs": [],
   "source": [
    "enumerate?"
   ]
  },
  {
   "cell_type": "markdown",
   "metadata": {},
   "source": [
    "References \n",
    "\n",
    "Chollet, F. (2021). Deep Learning with Python (2nd ed.). New York: Manning Publications Co. LLC."
   ]
  }
 ],
 "metadata": {
  "kernelspec": {
   "display_name": "Python 3",
   "language": "python",
   "name": "python3"
  },
  "language_info": {
   "codemirror_mode": {
    "name": "ipython",
    "version": 3
   },
   "file_extension": ".py",
   "mimetype": "text/x-python",
   "name": "python",
   "nbconvert_exporter": "python",
   "pygments_lexer": "ipython3",
   "version": "3.8.5"
  }
 },
 "nbformat": 4,
 "nbformat_minor": 4
}
