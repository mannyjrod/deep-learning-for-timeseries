{
 "cells": [
  {
   "cell_type": "markdown",
   "metadata": {},
   "source": [
    "Author: Emmanuel Rodriguez\n",
    "\n",
    "https://emmanueljrodriguez.com/\n",
    "\n",
    "Date: 25-Feb-2023, 11:52\n",
    "\n",
    "Location: Seattle, WA"
   ]
  },
  {
   "cell_type": "markdown",
   "metadata": {},
   "source": [
    "# Deep Learning for Timeseries"
   ]
  },
  {
   "cell_type": "markdown",
   "metadata": {},
   "source": [
    "### Applying recurrent neural networks (RNNs) to a temperature forecasting example"
   ]
  },
  {
   "cell_type": "markdown",
   "metadata": {},
   "source": [
    "Understand: \"[Unlike other data types] Working with timeseries involves understanding the *dynamics* of a system - its periodic cycles, how it trends over time, its regular regime and its sudden spikes.\""
   ]
  },
  {
   "cell_type": "markdown",
   "metadata": {},
   "source": [
    "Ref: Chollet, 10.2 A temperature-forecasting example"
   ]
  },
  {
   "cell_type": "markdown",
   "metadata": {},
   "source": [
    "Requirements: Develop a program that predicts the temperature 24 hours in the future."
   ]
  },
  {
   "cell_type": "markdown",
   "metadata": {},
   "source": [
    "Background: A dataset in the form of a timeseries of hourly measurements of quantities such as atmospheric pressure and humidity, which was recorded over the recent past by a set of sensors located at the weather station at the Max Planck Institute for Biogeochemistry in Jena, Germany will be used in this analysis."
   ]
  },
  {
   "cell_type": "markdown",
   "metadata": {},
   "source": [
    "Ref: https://www.bgc-jena.mpg.de/wetter/\n",
    "\n",
    "[Map of Max-Planck-Institute for Biogeochemistry](https://www.google.com/maps/place/Max+Planck+Institute+for+Biogeochemistry/@50.8995996,11.5482639,13z/data=!4m6!3m5!1s0x47a6a8e8b03dc12f:0x4ca4590c808f462f!8m2!3d50.9101246!4d11.5667919!16zL20vMGdnX3Nt) "
   ]
  },
  {
   "cell_type": "markdown",
   "metadata": {},
   "source": [
    "**To Do**\n",
    "\n",
    "1. Understand the *for* loop logic under parse the data\n",
    "2. Investigate the `timeseries_dataset_from_array()` function and the associated logic in the same cell block"
   ]
  },
  {
   "cell_type": "markdown",
   "metadata": {},
   "source": [
    "### Step 1. Acquire"
   ]
  },
  {
   "cell_type": "markdown",
   "metadata": {},
   "source": [
    "Load the dataset - download and uncompress the data."
   ]
  },
  {
   "cell_type": "code",
   "execution_count": 8,
   "metadata": {},
   "outputs": [
    {
     "name": "stdout",
     "output_type": "stream",
     "text": [
      "Requirement already satisfied: wget in c:\\users\\ejoaq\\anaconda3\\lib\\site-packages (3.2)\n"
     ]
    }
   ],
   "source": [
    "# Recall: Using an '!' before the command will pass the command to the shell/command prompt (not to the Python interpreter)\n",
    "!pip install wget \n",
    "\n",
    "# \"pip Install Packages\" is a tool for installing Python packages and their dependencies in a secure manner"
   ]
  },
  {
   "cell_type": "code",
   "execution_count": 15,
   "metadata": {},
   "outputs": [
    {
     "name": "stdout",
     "output_type": "stream",
     "text": [
      "\n",
      "Saved under jena_climate_2009_2016.csv.zip\n"
     ]
    }
   ],
   "source": [
    "!python -m wget -o jena_climate_2009_2016.csv.zip https://s3.amazonaws.com/keras-datasets/jena_climate_2009_2016.csv.zip \n",
    "    # wget is a windows network utility to retrieve files from the web\n",
    "#!unzip jena_climate_2009_2016.csv.zip"
   ]
  },
  {
   "cell_type": "markdown",
   "metadata": {},
   "source": [
    "Was running into issues with using 'wget'; https://stackoverflow.com/questions/60760049/wget-is-not-recognized-as-an-internal-or-external-command-operable-program-or-b"
   ]
  },
  {
   "cell_type": "code",
   "execution_count": 16,
   "metadata": {},
   "outputs": [
    {
     "name": "stdout",
     "output_type": "stream",
     "text": [
      "Archive:  jena_climate_2009_2016.csv.zip\n",
      "  inflating: jena_climate_2009_2016.csv  \n",
      "  inflating: __MACOSX/._jena_climate_2009_2016.csv  \n"
     ]
    }
   ],
   "source": [
    "!unzip jena_climate_2009_2016.csv"
   ]
  },
  {
   "cell_type": "markdown",
   "metadata": {},
   "source": [
    "### Step 2. Prepare"
   ]
  },
  {
   "cell_type": "markdown",
   "metadata": {},
   "source": [
    "Inspect the data of the Jena weather dataset"
   ]
  },
  {
   "cell_type": "code",
   "execution_count": 17,
   "metadata": {},
   "outputs": [
    {
     "name": "stdout",
     "output_type": "stream",
     "text": [
      "['\"Date Time\"', '\"p (mbar)\"', '\"T (degC)\"', '\"Tpot (K)\"', '\"Tdew (degC)\"', '\"rh (%)\"', '\"VPmax (mbar)\"', '\"VPact (mbar)\"', '\"VPdef (mbar)\"', '\"sh (g/kg)\"', '\"H2OC (mmol/mol)\"', '\"rho (g/m**3)\"', '\"wv (m/s)\"', '\"max. wv (m/s)\"', '\"wd (deg)\"']\n",
      "420451\n"
     ]
    }
   ],
   "source": [
    "import os\n",
    "fname = os.path.join(\"jena_climate_2009_2016.csv\")\n",
    "\n",
    "with open(fname) as f:\n",
    "    data = f.read()\n",
    "    \n",
    "lines = data.split('\\n')\n",
    "header = lines[0].split(',')\n",
    "lines = lines[1:]\n",
    "print(header)\n",
    "print(len(lines))"
   ]
  },
  {
   "cell_type": "markdown",
   "metadata": {},
   "source": [
    "**Parse the data**\n",
    "\n",
    "Parse - data parsing is converting data from one format to another; it is generally done to make the existing, often unstructured data more comprehensible."
   ]
  },
  {
   "cell_type": "code",
   "execution_count": 32,
   "metadata": {},
   "outputs": [],
   "source": [
    "# Convert all lines of data into NumPy arrays: one array for the temperature, and another\n",
    "# for the rest of the data - the features used to predict future temperatures. \n",
    "# Discard the 'Date Time' column.\n",
    "\n",
    "import numpy as np\n",
    "temp = np.zeros((len(lines),)) # Initialize the temp variable with an array of zeros of shape: lines x 0\n",
    "raw_data = np.zeros((len(lines), len(header) - 1)) # Initialize the variable that will hold the features with zeros\n",
    "for i, line in enumerate(lines):\n",
    "    values = [float(x) for x in line.split(\",\")[1:]]\n",
    "    temp[i] = values[1]\n",
    "    raw_data[i, :] = values[:]"
   ]
  },
  {
   "cell_type": "code",
   "execution_count": 33,
   "metadata": {},
   "outputs": [],
   "source": [
    "#help(enumerate)"
   ]
  },
  {
   "cell_type": "markdown",
   "metadata": {},
   "source": [
    "Visualize - Plot the temperature timeseries"
   ]
  },
  {
   "cell_type": "code",
   "execution_count": 37,
   "metadata": {},
   "outputs": [
    {
     "data": {
      "text/plain": [
       "Text(0.5, 1.0, 'Temperature over the full temporal range of the dataset (degC)')"
      ]
     },
     "execution_count": 37,
     "metadata": {},
     "output_type": "execute_result"
    },
    {
     "data": {
      "image/png": "[encoded data removed]",
      "text/plain": [
       "<Figure size 432x288 with 1 Axes>"
      ]
     },
     "metadata": {
      "needs_background": "light"
     },
     "output_type": "display_data"
    }
   ],
   "source": [
    "from matplotlib import pyplot as plt\n",
    "plt.plot(range(len(temp)), temp)\n",
    "plt.xlabel('Time')\n",
    "plt.ylabel('Temp, degC')\n",
    "plt.title('Temperature over the full temporal range of the dataset (degC)')"
   ]
  },
  {
   "cell_type": "markdown",
   "metadata": {},
   "source": [
    "On this plot, one can clearly see the yearly periodicity of temperature, the data spans 8 years."
   ]
  },
  {
   "cell_type": "code",
   "execution_count": 39,
   "metadata": {},
   "outputs": [],
   "source": [
    "# The data's sample rate is every 10 minutes, so how many data points per day?\n",
    "# 6 samples per hour, so\n",
    "daily_samples = 24 * 6"
   ]
  },
  {
   "cell_type": "code",
   "execution_count": 41,
   "metadata": {},
   "outputs": [
    {
     "data": {
      "text/plain": [
       "Text(0, 0.5, 'Temp, degC')"
      ]
     },
     "execution_count": 41,
     "metadata": {},
     "output_type": "execute_result"
    },
    {
     "data": {
      "image/png": "[encoded data removed]",
      "text/plain": [
       "<Figure size 432x288 with 1 Axes>"
      ]
     },
     "metadata": {
      "needs_background": "light"
     },
     "output_type": "display_data"
    }
   ],
   "source": [
    "plt.plot(range(daily_samples*10), temp[:daily_samples*10])\n",
    "plt.title('Temperature over the first 10 days of the dataset (degC)')\n",
    "plt.xlabel('Time')\n",
    "plt.ylabel('Temp, degC')"
   ]
  },
  {
   "cell_type": "markdown",
   "metadata": {},
   "source": [
    "Cold weather! Note the daily periodicity, especially the last 4 days.\n",
    "**Always look for periodicity in your data**"
   ]
  },
  {
   "cell_type": "markdown",
   "metadata": {},
   "source": [
    "### Step 3. Analyze Data"
   ]
  },
  {
   "cell_type": "markdown",
   "metadata": {},
   "source": [
    "Note: When working with timeseries data, it's important to use validation and test data that is more recent than the training data. This is because you want the model to have been trained with sufficient historical data, enough that it captures the periodicity - and when it comes times to test your model's performance, it is wise to use more recent data to increase the probability of making an accurate prediction of the future."
   ]
  },
  {
   "cell_type": "markdown",
   "metadata": {},
   "source": [
    "**Split the data into training, testing, and validation.**\n",
    "* 50% for training\n",
    "* 25% for testing\n",
    "* 25% for validation"
   ]
  },
  {
   "cell_type": "code",
   "execution_count": 50,
   "metadata": {},
   "outputs": [
    {
     "name": "stdout",
     "output_type": "stream",
     "text": [
      "num_train_samples: 210225\n",
      "num_test_samples: 105112\n",
      "num_val_samples: 105114\n"
     ]
    }
   ],
   "source": [
    "num_train_samples = int(0.5*len(raw_data)) # use the int() method to return an integer object, otherwise you would get a float - for a number of samples, you want an integer\n",
    "num_test_samples = int(0.25*len(raw_data))\n",
    "num_val_samples = len(raw_data) - num_train_samples - num_test_samples\n",
    "print(\"num_train_samples:\", num_train_samples)\n",
    "print(\"num_test_samples:\", num_test_samples)\n",
    "print(\"num_val_samples:\", num_val_samples)"
   ]
  },
  {
   "cell_type": "markdown",
   "metadata": {},
   "source": [
    "**Preprocess the data to a format a neural network can ingest.**\n",
    "\n",
    "Each timeseries in the data is on a different scale, so they must be *normalized* so that each timeseries takes small values on a similar scale."
   ]
  },
  {
   "cell_type": "markdown",
   "metadata": {},
   "source": [
    "Normalize the training data:"
   ]
  },
  {
   "cell_type": "code",
   "execution_count": 52,
   "metadata": {},
   "outputs": [],
   "source": [
    "mean = raw_data[:num_train_samples].mean(axis=0) # Slice into the raw_data array by starting at row 0 and stopping at the number of training samples\n",
    "# by setting the axis parameter to '0', this will take the mean of the rows\n",
    "raw_data -= mean # subtract the mean from every sample, and make this your new raw_data array\n",
    "std = raw_data[:num_train_samples].std(axis=0) # calculate the standard deviation of the *new* raw_data array\n",
    "raw_data /= std\n",
    "\n",
    "# Assignment operators\n",
    "# -=, x-=3 --> same as x=x-3\n",
    "# /=, x/=3 --> same as x=x/3"
   ]
  },
  {
   "cell_type": "markdown",
   "metadata": {},
   "source": [
    "Create a `Dataset` object that yields batches of data from the past five days along with a target temperature 24 hours in the future; this is to conserve memory.\n",
    "\n",
    "Samples will be generated on the fly while only keeping the original `raw_data` and `temp[erature]` arrays; the built-in dataset utility in Keras `timeseries_dataset_from_array()` will perform this function.\n",
    "\n",
    "> `timeseries_dataset_from_array()` will be used to instantiate three datasets: one for training, one for validation, and one for testing."
   ]
  },
  {
   "cell_type": "code",
   "execution_count": 54,
   "metadata": {},
   "outputs": [],
   "source": [
    "from tensorflow import keras"
   ]
  },
  {
   "cell_type": "code",
   "execution_count": 56,
   "metadata": {},
   "outputs": [
    {
     "name": "stdout",
     "output_type": "stream",
     "text": [
      "[0, 1, 2] 3\n",
      "[1, 2, 3] 4\n",
      "[2, 3, 4] 5\n",
      "[3, 4, 5] 6\n",
      "[4, 5, 6] 7\n"
     ]
    }
   ],
   "source": [
    "# Investigate the `timeseries_dataset_from_array()` function with dummy data first\n",
    "\n",
    "int_sequence = np.arange(10) # Generates an array of sorted integers in the range of 0 to 9 (the 10 is excluded)\n",
    "dummy_dataset = keras.utils.timeseries_dataset_from_array(\n",
    "    data=int_sequence[:-3], # The sequence generated will be sampled from [0 1 2 3 4 5 6]\n",
    "    targets=int_sequence[3:], # The target for the sequence that starts at data[N] will be data[N+3]\n",
    "    sequence_length=3, # The sequence will be 3 steps long\n",
    "    batch_size=2, # The sequences will be batched in batches of size 2\n",
    ")\n",
    "\n",
    "for inputs, targets in dummy_dataset:\n",
    "    for i in range(inputs.shape[0]):\n",
    "        print([int(x) for x in inputs[i]], int(targets[i]))"
   ]
  },
  {
   "cell_type": "markdown",
   "metadata": {},
   "source": [
    "# I need to gain an understanding of the above logic..."
   ]
  },
  {
   "cell_type": "markdown",
   "metadata": {},
   "source": [
    "**Instantiate datasets for training, validation, and testing**\n",
    "\n",
    "Instantiate - verb. represent as an instance"
   ]
  },
  {
   "cell_type": "code",
   "execution_count": 59,
   "metadata": {},
   "outputs": [],
   "source": [
    "sampling_rate = 6 # One data point per hour\n",
    "sequence_length = 120 # Observations go back 5 days (120 hours)\n",
    "delay = sampling_rate * (sequence_length + 24 - 1) # The target for a sequence will be the temperature 24 hours\n",
    "# after the end of the sequence.\n",
    "\n",
    "batch_size = 256 # Arbitrary\n",
    "\n",
    "train_dataset = keras.utils.timeseries_dataset_from_array(\n",
    "    raw_data[:-delay],\n",
    "    targets=temp[delay:],\n",
    "    sampling_rate=sampling_rate,\n",
    "    sequence_length=sequence_length,\n",
    "    shuffle=True,\n",
    "    batch_size=batch_size,\n",
    "    start_index=0,\n",
    "    end_index=num_train_samples)\n",
    "\n",
    "val_dataset = keras.utils.timeseries_dataset_from_array(\n",
    "    raw_data[:-delay],\n",
    "    targets=temp[delay:],\n",
    "    sampling_rate=sampling_rate,\n",
    "    sequence_length=sequence_length,\n",
    "    shuffle=True,\n",
    "    batch_size=batch_size,\n",
    "    start_index=num_train_samples,\n",
    "    end_index=num_train_samples + num_val_samples)\n",
    "\n",
    "test_dataset = keras.utils.timeseries_dataset_from_array(\n",
    "    raw_data[:-delay],\n",
    "    targets=temp[delay:],\n",
    "    sampling_rate=sampling_rate,\n",
    "    sequence_length=sequence_length,\n",
    "    shuffle=True,\n",
    "    batch_size=batch_size,\n",
    "    start_index=num_train_samples + num_val_samples)"
   ]
  },
  {
   "cell_type": "markdown",
   "metadata": {},
   "source": [
    "Each dataset yields a tuple `(samples, targets)`, where `samples` is a batch of 256 samples, each containing 120 consecutive hours of input data, and `targets` is the corresponding array of 256 target temperatures."
   ]
  },
  {
   "cell_type": "code",
   "execution_count": 60,
   "metadata": {},
   "outputs": [
    {
     "name": "stdout",
     "output_type": "stream",
     "text": [
      "samples shape: (256, 120, 14)\n",
      "targets shape: (256,)\n"
     ]
    }
   ],
   "source": [
    "for samples, targets in train_dataset:\n",
    "    print(\"samples shape:\", samples.shape)\n",
    "    print(\"targets shape:\", targets.shape)\n",
    "    break"
   ]
  },
  {
   "cell_type": "markdown",
   "metadata": {},
   "source": [
    "### A common-sense, non-machine learning baseline"
   ]
  },
  {
   "cell_type": "markdown",
   "metadata": {},
   "source": [
    "> Establish a baseline that *should* be beaten in order to demonstrate the usefulness of more-advanced machine learning models.\n",
    "\n",
    "The temperature timeseries is assumed to be continuous as well as periodical with a daily period; thus, the common-sense approach says to predict the temperature 24 hours from now will be equal to the temperature right now.\n",
    "\n",
    "This approach will be evaluated using the **mean absolute error (MAE)** metric, defined as\n",
    "> `np.mean(np.abs(preds - targets))`"
   ]
  },
  {
   "cell_type": "markdown",
   "metadata": {},
   "source": [
    "### Compute the common-sense baseline MAE"
   ]
  },
  {
   "cell_type": "code",
   "execution_count": 65,
   "metadata": {},
   "outputs": [],
   "source": [
    "# Evaluation loop\n",
    "\n",
    "def evaluate_naive_method(dataset):\n",
    "    total_abs_err = 0.\n",
    "    samples_seen = 0\n",
    "    for samples, targets in dataset:\n",
    "        preds = samples[:,-1,1] * std[1] + mean[1] # Retrieve the last temperature measurement in the input sequence, which\n",
    "        # is located at column 1 of the temperature feature; then 'un-normalize' it by multiplying the std dev and \n",
    "        # adding the mean\n",
    "        total_abs_err += np.sum(np.abs(preds - targets)) # '+=' is an Assignment Operator equivalent to-> \n",
    "        # total_abs_err = total_abs_err + np.sum(np.abs(preds - targets))\n",
    "        samples_seen += samples.shape[0]\n",
    "    return total_abs_err / samples_seen\n"
   ]
  },
  {
   "cell_type": "code",
   "execution_count": 72,
   "metadata": {},
   "outputs": [],
   "source": [
    "baseline_val_MAE = evaluate_naive_method(val_dataset)\n",
    "baseline_test_MAE = evaluate_naive_method(test_dataset)"
   ]
  },
  {
   "cell_type": "code",
   "execution_count": 73,
   "metadata": {},
   "outputs": [
    {
     "name": "stdout",
     "output_type": "stream",
     "text": [
      "Validation MAE: 2.44\n",
      "Test MAE: 2.62\n"
     ]
    }
   ],
   "source": [
    "print(f\"Validation MAE: {baseline_val_MAE:.2f}\")\n",
    "print(f\"Test MAE: {baseline_test_MAE:.2f}\")"
   ]
  },
  {
   "cell_type": "markdown",
   "metadata": {},
   "source": [
    "The common-sense baseline achieves a validation MAE of 2.44$^\\circ$C and a test MAE of 2.62$^\\circ$C.\n",
    "\n",
    "So, if it is assumed that the temperature 24 hours in the future is the same as it is now, then according to the MAE metric(s) calculated - we will be off by ~2.5$^\\circ$ on average. - This becomes the number that we should *beat* with a deep learning model."
   ]
  },
  {
   "cell_type": "markdown",
   "metadata": {},
   "source": [
    "### Small bet: Try a simple, cheap ML model prior to looking into complicated and computationally expensive models such as RNNs"
   ]
  },
  {
   "cell_type": "markdown",
   "metadata": {},
   "source": [
    "Train and evaluate a densely connected model.\n",
    "\n",
    "> Note: Mean squared error (MSE) is used as the loss, rather than MAE, because unlike MAE, it's smooth around zero, which is a useful property for gradient descent. MAE will be monitored by adding it as a metric in `compile()`."
   ]
  },
  {
   "cell_type": "code",
   "execution_count": 67,
   "metadata": {},
   "outputs": [
    {
     "name": "stdout",
     "output_type": "stream",
     "text": [
      "Epoch 1/10\n",
      "819/819 [==============================] - 10s 8ms/step - loss: 21.5858 - mae: 3.5730 - val_loss: 13.1326 - val_mae: 2.8540\n",
      "Epoch 2/10\n",
      "819/819 [==============================] - 6s 8ms/step - loss: 10.8367 - mae: 2.6021 - val_loss: 11.5916 - val_mae: 2.6857\n",
      "Epoch 3/10\n",
      "819/819 [==============================] - 6s 8ms/step - loss: 9.2235 - mae: 2.3965 - val_loss: 11.2935 - val_mae: 2.6484\n",
      "Epoch 4/10\n",
      "819/819 [==============================] - 6s 8ms/step - loss: 8.4994 - mae: 2.3022 - val_loss: 13.0697 - val_mae: 2.8660\n",
      "Epoch 5/10\n",
      "819/819 [==============================] - 6s 8ms/step - loss: 8.0802 - mae: 2.2463 - val_loss: 11.1098 - val_mae: 2.6391\n",
      "Epoch 6/10\n",
      "819/819 [==============================] - 6s 8ms/step - loss: 7.8307 - mae: 2.2108 - val_loss: 10.9581 - val_mae: 2.6227\n",
      "Epoch 7/10\n",
      "819/819 [==============================] - 6s 8ms/step - loss: 7.5687 - mae: 2.1774 - val_loss: 11.8938 - val_mae: 2.7381\n",
      "Epoch 8/10\n",
      "819/819 [==============================] - 7s 8ms/step - loss: 7.3982 - mae: 2.1545 - val_loss: 11.2185 - val_mae: 2.6477\n",
      "Epoch 9/10\n",
      "819/819 [==============================] - 7s 8ms/step - loss: 7.2142 - mae: 2.1275 - val_loss: 11.0089 - val_mae: 2.6221\n",
      "Epoch 10/10\n",
      "819/819 [==============================] - 7s 8ms/step - loss: 7.1020 - mae: 2.1131 - val_loss: 12.9127 - val_mae: 2.8495\n",
      "405/405 [==============================] - 2s 5ms/step - loss: 11.9044 - mae: 2.7173\n",
      "Test MAE: 2.72\n"
     ]
    }
   ],
   "source": [
    "from tensorflow.keras import layers # from the Keras API, import the layers API\n",
    "\n",
    "inputs = keras.Input(shape=(sequence_length, raw_data.shape[-1]))\n",
    "x = layers.Flatten()(inputs)\n",
    "x = layers.Dense(16, activation='relu')(x)\n",
    "outputs = layers.Dense(1)(x)\n",
    "model = keras.Model(inputs, outputs)\n",
    "\n",
    "callbacks = [\n",
    "    keras.callbacks.ModelCheckpoint('jena_dense.keras',\n",
    "                                   save_best_only=True)\n",
    "]\n",
    "model.compile(optimizer='rmsprop', loss='mse', metrics=['mae'])\n",
    "history = model.fit(train_dataset,\n",
    "                   epochs=10,\n",
    "                   validation_data=val_dataset,\n",
    "                   callbacks=callbacks)\n",
    "\n",
    "model = keras.models.load_model('jena_dense.keras')\n",
    "print(f'Test MAE: {model.evaluate(test_dataset)[1]:.2f}')"
   ]
  },
  {
   "cell_type": "code",
   "execution_count": 75,
   "metadata": {},
   "outputs": [
    {
     "data": {
      "image/png": "[encoded data removed]",
      "text/plain": [
       "<IPython.core.display.Image object>"
      ]
     },
     "execution_count": 75,
     "metadata": {},
     "output_type": "execute_result"
    }
   ],
   "source": [
    "# Visualize the Neural Network:\n",
    "keras.utils.plot_model(model, show_shapes=True)"
   ]
  },
  {
   "cell_type": "markdown",
   "metadata": {},
   "source": [
    ">This is a fully connected model that starts by flattening the data and then runs it through two `Dense` layers. Note the lack of an activation function on the last `Dense` layer, which is typical for a regression problem."
   ]
  },
  {
   "cell_type": "markdown",
   "metadata": {},
   "source": [
    "Plot the results"
   ]
  },
  {
   "cell_type": "code",
   "execution_count": 74,
   "metadata": {},
   "outputs": [
    {
     "data": {
      "image/png": "[encoded data removed]",
      "text/plain": [
       "<Figure size 432x288 with 1 Axes>"
      ]
     },
     "metadata": {
      "needs_background": "light"
     },
     "output_type": "display_data"
    }
   ],
   "source": [
    "import matplotlib.pyplot as plt\n",
    "loss = history.history['mae']\n",
    "val_loss = history.history['val_mae']\n",
    "epochs = range(1, len(loss) + 1)\n",
    "plt.figure()\n",
    "plt.plot(epochs, loss, \"bo\", label=\"Training MAE\")\n",
    "plt.plot(epochs, val_loss, \"b\", label=\"Validation MAE\")\n",
    "\n",
    "# Plot horizontal line for common-sense baseline(s)\n",
    "plt.axhline(y=baseline_val_MAE, color='r', linestyle='-', label='Validation Baseline MAE') # val_dataset\n",
    "plt.axhline(y=baseline_test_MAE, color='r', linestyle='--', label='Test Baseline MAE') # test_dataset baseline\n",
    "\n",
    "plt.title(\"Training and Validation MAE\")\n",
    "plt.legend()\n",
    "plt.show()"
   ]
  },
  {
   "cell_type": "markdown",
   "metadata": {},
   "source": [
    "The goal is to beat the baseline MAE, i.e., the losses should be less (below) the horizontal lines. \n",
    "\n",
    "The validation MAE losses are close to the validation baseline, and even closer to the test baseline, but not reliably.\n",
    "\n",
    ">In other words, there is merit in having this baseline in the first place, and it turns out not to be easy to outperform."
   ]
  },
  {
   "cell_type": "markdown",
   "metadata": {},
   "source": [
    "This begs the question, if a well-performing model exists to go from the data to the targets, i.e., the common-sense baseline; why doesn't the neural network (the two-layer densely connected model) being trained find it (and improve on it)?\n",
    "\n",
    "* The common-sense heuristic is just one model among millions that can be represented in a hypothesis space.\n",
    "* The hypothesis space, the space of models in which a solution is being searched for, is the space of all possible two-layer networks with the configuration defined.\n",
    "\n",
    "> Just because a good solution technically exists in your hypothesis space doesn't mean you'll be able to find it via gradient descent.\n",
    "\n",
    "> Unless the learning algorithm is hardcoded to look for a specific kind of simple model, it can sometimes fail to find a simple solution to a simple problem. Which is why, leveraging good feature engineering and relevant architecture priors is *essential*."
   ]
  },
  {
   "cell_type": "markdown",
   "metadata": {},
   "source": [
    "### 1D Convolutional Model"
   ]
  },
  {
   "cell_type": "markdown",
   "metadata": {},
   "source": [
    "A convolutional model *could* work.\n",
    "\n",
    "> A temporal convnet could reuse the same representations across different days, much like a spatial convnet can reuse the same representations across different locations in an image.\n",
    "\n",
    "The `Conv1D` layer sees its inputs through 1D windows that slide across input sequences.\n",
    "\n",
    "* This layer is a good fit for any sequence data that follows the **translation invariance assumption** - meaning, if you slide a window over the sequence, the content of the window should follow the same properties independently of the location of the window."
   ]
  },
  {
   "cell_type": "code",
   "execution_count": 77,
   "metadata": {},
   "outputs": [
    {
     "name": "stdout",
     "output_type": "stream",
     "text": [
      "Epoch 1/10\n",
      "819/819 [==============================] - 21s 24ms/step - loss: 22.1769 - mae: 3.7129 - val_loss: 16.0722 - val_mae: 3.1658\n",
      "Epoch 2/10\n",
      "819/819 [==============================] - 20s 24ms/step - loss: 15.4168 - mae: 3.1131 - val_loss: 14.4408 - val_mae: 3.0045\n",
      "Epoch 3/10\n",
      "819/819 [==============================] - 20s 24ms/step - loss: 13.6985 - mae: 2.9304 - val_loss: 15.2541 - val_mae: 3.0911\n",
      "Epoch 4/10\n",
      "819/819 [==============================] - 21s 25ms/step - loss: 12.7046 - mae: 2.8213 - val_loss: 15.6203 - val_mae: 3.1005\n",
      "Epoch 5/10\n",
      "819/819 [==============================] - 20s 25ms/step - loss: 12.0313 - mae: 2.7464 - val_loss: 18.1334 - val_mae: 3.3763\n",
      "Epoch 6/10\n",
      "819/819 [==============================] - 20s 25ms/step - loss: 11.5197 - mae: 2.6868 - val_loss: 15.5530 - val_mae: 3.1227\n",
      "Epoch 7/10\n",
      "819/819 [==============================] - 21s 25ms/step - loss: 11.1242 - mae: 2.6381 - val_loss: 14.2071 - val_mae: 2.9821\n",
      "Epoch 8/10\n",
      "819/819 [==============================] - 20s 25ms/step - loss: 10.7702 - mae: 2.5967 - val_loss: 16.9880 - val_mae: 3.2420\n",
      "Epoch 9/10\n",
      "819/819 [==============================] - 20s 25ms/step - loss: 10.4418 - mae: 2.5564 - val_loss: 17.3754 - val_mae: 3.2514\n",
      "Epoch 10/10\n",
      "819/819 [==============================] - 21s 26ms/step - loss: 10.1924 - mae: 2.5246 - val_loss: 16.7523 - val_mae: 3.2117\n",
      "405/405 [==============================] - 3s 8ms/step - loss: 15.3165 - mae: 3.0758\n",
      "Test MAE: 3.08\n"
     ]
    }
   ],
   "source": [
    "inputs = keras.Input(shape=(sequence_length, raw_data.shape[-1]))\n",
    "x = layers.Conv1D(8, 24, activation='relu')(inputs)\n",
    "x = layers.MaxPooling1D(2)(x)\n",
    "x = layers.Conv1D(8, 12, activation='relu')(x)\n",
    "x = layers.MaxPooling1D(2)(x)\n",
    "x = layers.Conv1D(8, 6, activation='relu')(x)\n",
    "x = layers.GlobalAveragePooling1D()(x)\n",
    "outputs = layers.Dense(1)(x)\n",
    "model = keras.Model(inputs, outputs)\n",
    "\n",
    "callbacks = [\n",
    "    keras.callbacks.ModelCheckpoint('jena_conv.keras',\n",
    "                                   save_best_only=True)\n",
    "]\n",
    "model.compile(optimizer='rmsprop', loss='mse', metrics=['mae'])\n",
    "history = model.fit(train_dataset,\n",
    "                   epochs=10,\n",
    "                   validation_data=val_dataset,\n",
    "                   callbacks=callbacks)\n",
    "\n",
    "model = keras.models.load_model('jena_conv.keras')\n",
    "print(f'Test MAE: {model.evaluate(test_dataset)[1]:.2f}')"
   ]
  },
  {
   "cell_type": "code",
   "execution_count": 78,
   "metadata": {},
   "outputs": [
    {
     "data": {
      "image/png": "[encoded data removed]",
      "text/plain": [
       "<IPython.core.display.Image object>"
      ]
     },
     "execution_count": 78,
     "metadata": {},
     "output_type": "execute_result"
    }
   ],
   "source": [
    "# Visualize the Neural Network:\n",
    "keras.utils.plot_model(model, show_shapes=True)"
   ]
  },
  {
   "cell_type": "code",
   "execution_count": 79,
   "metadata": {},
   "outputs": [
    {
     "data": {
      "image/png": "[encoded data removed]",
      "text/plain": [
       "<Figure size 432x288 with 1 Axes>"
      ]
     },
     "metadata": {
      "needs_background": "light"
     },
     "output_type": "display_data"
    }
   ],
   "source": [
    "loss = history.history['mae']\n",
    "val_loss = history.history['val_mae']\n",
    "epochs = range(1, len(loss) + 1)\n",
    "plt.figure()\n",
    "plt.plot(epochs, loss, \"bo\", label=\"Training MAE\")\n",
    "plt.plot(epochs, val_loss, \"b\", label=\"Validation MAE\")\n",
    "\n",
    "# Plot horizontal line for common-sense baseline(s)\n",
    "plt.axhline(y=baseline_val_MAE, color='r', linestyle='-', label='Baseline Validation MAE') # val_dataset\n",
    "plt.axhline(y=baseline_test_MAE, color='r', linestyle='--', label='Baseline Test MAE') # test_dataset baseline\n",
    "\n",
    "plt.title(\"Training and Validation MAE\")\n",
    "plt.legend()\n",
    "plt.show()"
   ]
  },
  {
   "cell_type": "markdown",
   "metadata": {},
   "source": [
    "3/4/23 22:27... this one performed even worse...\n",
    "\n",
    "Next: 10.2.5 A first recurrent baseline"
   ]
  },
  {
   "cell_type": "code",
   "execution_count": 51,
   "metadata": {},
   "outputs": [
    {
     "ename": "SyntaxError",
     "evalue": "invalid syntax (<ipython-input-51-100e954d9a10>, line 1)",
     "output_type": "error",
     "traceback": [
      "\u001b[1;36m  File \u001b[1;32m\"<ipython-input-51-100e954d9a10>\"\u001b[1;36m, line \u001b[1;32m1\u001b[0m\n\u001b[1;33m    help(-=)\u001b[0m\n\u001b[1;37m         ^\u001b[0m\n\u001b[1;31mSyntaxError\u001b[0m\u001b[1;31m:\u001b[0m invalid syntax\n"
     ]
    }
   ],
   "source": [
    "help(-=)"
   ]
  },
  {
   "cell_type": "code",
   "execution_count": 46,
   "metadata": {},
   "outputs": [
    {
     "data": {
      "text/plain": [
       "int"
      ]
     },
     "execution_count": 46,
     "metadata": {},
     "output_type": "execute_result"
    }
   ],
   "source": [
    "type(num_train_samples)"
   ]
  },
  {
   "cell_type": "code",
   "execution_count": 49,
   "metadata": {},
   "outputs": [
    {
     "data": {
      "text/plain": [
       "210225.5"
      ]
     },
     "execution_count": 49,
     "metadata": {},
     "output_type": "execute_result"
    }
   ],
   "source": [
    "num_train_samples"
   ]
  },
  {
   "cell_type": "code",
   "execution_count": 27,
   "metadata": {},
   "outputs": [],
   "source": [
    "enumerate?"
   ]
  },
  {
   "cell_type": "markdown",
   "metadata": {},
   "source": [
    "References \n",
    "\n",
    "Chollet, F. (2021). Deep Learning with Python (2nd ed.). New York: Manning Publications Co. LLC."
   ]
  }
 ],
 "metadata": {
  "kernelspec": {
   "display_name": "Python 3",
   "language": "python",
   "name": "python3"
  },
  "language_info": {
   "codemirror_mode": {
    "name": "ipython",
    "version": 3
   },
   "file_extension": ".py",
   "mimetype": "text/x-python",
   "name": "python",
   "nbconvert_exporter": "python",
   "pygments_lexer": "ipython3",
   "version": "3.8.5"
  }
 },
 "nbformat": 4,
 "nbformat_minor": 4
}
